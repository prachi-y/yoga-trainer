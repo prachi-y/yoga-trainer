{
 "cells": [
  {
   "cell_type": "markdown",
   "id": "243fca3c-e709-48f1-a452-366d1392a402",
   "metadata": {},
   "source": [
    "<font color='purple' size=4><b>Importing Libraries</b></font>"
   ]
  },
  {
   "cell_type": "code",
   "execution_count": 1,
   "id": "f1113262-6c41-4cb6-b212-f9eda266113c",
   "metadata": {},
   "outputs": [],
   "source": [
    "import cv2\n",
    "import numpy as np\n",
    "import mediapipe as mp\n",
    "import pandas as pd\n",
    "import os\n",
    "import warnings"
   ]
  },
  {
   "cell_type": "markdown",
   "id": "b29f8889-15fa-443a-99f2-4476bd70d3c3",
   "metadata": {},
   "source": [
    "<font color='purple' size=4><b>Initialising Pose Detection Model</b></font>"
   ]
  },
  {
   "cell_type": "code",
   "execution_count": 2,
   "id": "3e95d67e-5e1f-4bd0-acbe-15e0d2caf844",
   "metadata": {},
   "outputs": [],
   "source": [
    "mp_pose = mp.solutions.pose\n",
    "pose = mp_pose.Pose(static_image_mode=True, min_detection_confidence=0.3, model_complexity=2)"
   ]
  },
  {
   "cell_type": "markdown",
   "id": "bf6d9e14-ec19-46ae-b735-1d171261ca11",
   "metadata": {},
   "source": [
    "<font color='purple' size=4><b>Creating List With Names of All Poses</b></font>"
   ]
  },
  {
   "cell_type": "code",
   "execution_count": 3,
   "id": "fbf64c6c-8a42-4a8a-815a-afd7b3dac8de",
   "metadata": {},
   "outputs": [],
   "source": [
    "pose_list = ['Downward Dog Pose', 'Goddess Pose', 'Plank Pose', 'Tree Pose', 'Warrior-II Pose']"
   ]
  },
  {
   "cell_type": "markdown",
   "id": "8e8f3899-636a-4bc2-8d67-216ddaebf908",
   "metadata": {},
   "source": [
    "<font color='purple' size=4><b>Creating Pose Detection Function</b></font>"
   ]
  },
  {
   "cell_type": "code",
   "execution_count": 4,
   "id": "8e7f10e0-83fa-4cb4-bd4c-5dfc78b738f5",
   "metadata": {},
   "outputs": [],
   "source": [
    "def get_landmarks(image_path, pose):\n",
    "    image = cv2.imread(image_path)\n",
    "    landmarks_list = []\n",
    "    if image.ndim == 3:\n",
    "        if image.shape[-1] == 3:            \n",
    "            imageRGB = cv2.cvtColor(image, cv2.COLOR_BGR2RGB)\n",
    "            results = pose.process(imageRGB)\n",
    "            height, width, _ = image.shape\n",
    "\n",
    "            if results.pose_landmarks:        \n",
    "                for landmark in results.pose_landmarks.landmark:\n",
    "                    landmarks_list.append((int(landmark.x*width), int(landmark.y*height), (landmark.z*width)))\n",
    "\n",
    "                return landmarks_list\n",
    "\n",
    "            else:\n",
    "                return\n",
    "    return"
   ]
  },
  {
   "cell_type": "markdown",
   "id": "49abea4a-d8a3-4c42-b7cd-be2c0f585411",
   "metadata": {},
   "source": [
    "<font color='purple' size=4><b>Creating Angle Calculation Function</b></font>"
   ]
  },
  {
   "cell_type": "code",
   "execution_count": 5,
   "id": "68eb2b0c-b300-4857-9bff-b5f1e7b65410",
   "metadata": {},
   "outputs": [],
   "source": [
    "def get_angle(landmark1, landmark2, landmark3):\n",
    "    warnings.filterwarnings('error')\n",
    "    \n",
    "    x1, y1, _ = landmark1\n",
    "    x2, y2, _ = landmark2\n",
    "    x3, y3, _ = landmark3\n",
    "\n",
    "    pt1 = np.array([x1, y1])\n",
    "    pt2 = np.array([x2, y2])\n",
    "    pt3 = np.array([x3, y3])\n",
    "\n",
    "    line21 = pt1 - pt2\n",
    "    line23 = pt3 - pt2\n",
    "\n",
    "    cosine_angle = np.dot(line21, line23) / (np.linalg.norm(line21) * np.linalg.norm(line23))\n",
    "    try:\n",
    "        angle_rad = np.arccos(cosine_angle)\n",
    "        angle_deg = np.degrees(angle_rad)\n",
    "        \n",
    "    except:\n",
    "        return\n",
    "    \n",
    "    if angle_deg < 0:\n",
    "        return (360 + angle_deg)\n",
    "    \n",
    "    else: \n",
    "        return angle_deg"
   ]
  },
  {
   "cell_type": "markdown",
   "id": "65a1b899-63b8-4312-9caa-308ae2d26f20",
   "metadata": {},
   "source": [
    "<font color='purple' size=4><b>Creating Function to Obtain Features From Landmarks</b></font>"
   ]
  },
  {
   "cell_type": "code",
   "execution_count": 6,
   "id": "a0405dc5-8d22-4f00-9ffd-e38e01c90c4a",
   "metadata": {},
   "outputs": [],
   "source": [
    "def get_features(landmarks_list):\n",
    "    shoulder_ang_L = get_angle(landmarks_list[13], landmarks_list[11], landmarks_list[23])\n",
    "    shoulder_ang_R = get_angle(landmarks_list[14], landmarks_list[12], landmarks_list[24])\n",
    "    elbow_ang_L = get_angle(landmarks_list[11], landmarks_list[13], landmarks_list[15])\n",
    "    elbow_ang_R = get_angle(landmarks_list[12], landmarks_list[14], landmarks_list[16])\n",
    "    waist_ang_L = get_angle(landmarks_list[11], landmarks_list[23], landmarks_list[25])\n",
    "    waist_ang_R = get_angle(landmarks_list[12], landmarks_list[24], landmarks_list[26])\n",
    "    knee_ang_L = get_angle(landmarks_list[23], landmarks_list[25], landmarks_list[27])\n",
    "    knee_ang_R = get_angle(landmarks_list[24], landmarks_list[26], landmarks_list[28])\n",
    "    \n",
    "    features = [shoulder_ang_L, shoulder_ang_R, elbow_ang_L, elbow_ang_R,\n",
    "                waist_ang_L, waist_ang_R, knee_ang_L, knee_ang_R]\n",
    "    \n",
    "    features = np.array(features)\n",
    "    return features"
   ]
  },
  {
   "cell_type": "markdown",
   "id": "733c4745-1f03-433e-986d-06cb0075c3bf",
   "metadata": {},
   "source": [
    "<font color='purple' size=4><b>Creating Preprocess Function</b></font>"
   ]
  },
  {
   "cell_type": "code",
   "execution_count": 7,
   "id": "6eecd245-7c3a-431e-bd90-0b850de98384",
   "metadata": {},
   "outputs": [],
   "source": [
    "def preprocess(path):\n",
    "    main_folder = os.path.dirname(os.path.dirname(path))\n",
    "    csv_file = os.path.join(main_folder, 'CSVFiles', os.path.split(path)[1] + '.csv')\n",
    "    df = pd.DataFrame(columns = ['Image_name', 'Shoulder_L', 'Shoulder_R', 'Elbow_L', 'Elbow_R',\n",
    "                                    'Waist_L', 'Waist_R', 'Knee_L', 'Knee_R', 'Pose_Num', 'Pose_Name'])\n",
    "    pose_num = 0\n",
    "        \n",
    "    for pose_name in os.listdir(path):\n",
    "        pose_folder = os.path.join(path, pose_name)\n",
    "\n",
    "        for image in os.listdir(pose_folder):\n",
    "            image_path = os.path.join(pose_folder, image)\n",
    "            landmarks = get_landmarks(image_path, pose)\n",
    "            if landmarks:\n",
    "                features = get_features(landmarks)\n",
    "                if None not in features:\n",
    "                    row = pd.DataFrame({'Image_name' : image,\n",
    "                                        'Shoulder_L' : features[0],\n",
    "                                        'Shoulder_R' : features[1],\n",
    "                                        'Elbow_L' : features[2],\n",
    "                                        'Elbow_R' : features[3],\n",
    "                                        'Waist_L' : features[4],\n",
    "                                        'Waist_R' : features[5],\n",
    "                                        'Knee_L' : features[6],\n",
    "                                        'Knee_R' : features[7],\n",
    "                                        'Pose_Num' : pose_num,\n",
    "                                        'Pose_Name' : pose_list[pose_num]}, index=[0])\n",
    "                    df = pd.concat([df, row], axis=0, ignore_index=True)            \n",
    "            \n",
    "        print(f\"Successfully completed folder {pose_name}\")\n",
    "        pose_num += 1\n",
    "    \n",
    "    df.to_csv(csv_file, index=False)\n",
    "    print(f\"Successfully created {os.path.split(path)[1] + '.csv'}\")"
   ]
  },
  {
   "cell_type": "markdown",
   "id": "b4f0d37c-87f6-4813-9040-ac57edd4da78",
   "metadata": {},
   "source": [
    "<font color='purple' size=4><b>Preprocessing Training Data</b></font>"
   ]
  },
  {
   "cell_type": "code",
   "execution_count": 8,
   "id": "50dcc19f-8d22-490c-a077-89ff0d4ca653",
   "metadata": {},
   "outputs": [
    {
     "name": "stdout",
     "output_type": "stream",
     "text": [
      "Successfully completed folder downdog\n",
      "Successfully completed folder goddess\n",
      "Successfully completed folder plank\n",
      "Successfully completed folder tree\n",
      "Successfully completed folder warrior2\n",
      "Successfully created TRAIN.csv\n"
     ]
    }
   ],
   "source": [
    "preprocess('C:\\\\Users\\\\sumit\\\\Desktop\\\\yoga_trainer\\\\classification_model\\\\DATASET\\\\TRAIN')"
   ]
  },
  {
   "cell_type": "markdown",
   "id": "f201a229-3ce4-4801-b10c-b4b5c46dce18",
   "metadata": {},
   "source": [
    "<font color='purple' size=4><b>Preprocessing Testing Data</b></font>"
   ]
  },
  {
   "cell_type": "code",
   "execution_count": 9,
   "id": "9d8de0f6-66ea-47a8-90da-ccdbcdf79fee",
   "metadata": {},
   "outputs": [
    {
     "name": "stdout",
     "output_type": "stream",
     "text": [
      "Successfully completed folder downdog\n",
      "Successfully completed folder goddess\n",
      "Successfully completed folder plank\n",
      "Successfully completed folder tree\n",
      "Successfully completed folder warrior2\n",
      "Successfully created TEST.csv\n"
     ]
    }
   ],
   "source": [
    "preprocess('C:\\\\Users\\\\sumit\\\\Desktop\\\\yoga_trainer\\\\classification_model\\\\DATASET\\\\TEST')"
   ]
  },
  {
   "cell_type": "code",
   "execution_count": null,
   "id": "be27cfdf-4250-4522-a691-39c9e38e56ac",
   "metadata": {},
   "outputs": [],
   "source": []
  }
 ],
 "metadata": {
  "kernelspec": {
   "display_name": "Python 3 (ipykernel)",
   "language": "python",
   "name": "python3"
  },
  "language_info": {
   "codemirror_mode": {
    "name": "ipython",
    "version": 3
   },
   "file_extension": ".py",
   "mimetype": "text/x-python",
   "name": "python",
   "nbconvert_exporter": "python",
   "pygments_lexer": "ipython3",
   "version": "3.9.13"
  }
 },
 "nbformat": 4,
 "nbformat_minor": 5
}
